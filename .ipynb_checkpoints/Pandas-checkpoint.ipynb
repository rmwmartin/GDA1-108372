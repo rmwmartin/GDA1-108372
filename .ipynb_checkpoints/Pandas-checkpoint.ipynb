{
 "cells": [
  {
   "cell_type": "markdown",
   "id": "2b2adad2-0b8c-41d6-b711-4bdfc78f5639",
   "metadata": {},
   "source": [
    "# Introduction to Pandas DataFrames\n",
    "\n"
   ]
  },
  {
   "cell_type": "markdown",
   "id": "caef84d7-3eb9-4ad7-b5d8-1f6087881912",
   "metadata": {},
   "source": [
    "![Panda hugging anaconda](Pandas.webp)"
   ]
  },
  {
   "cell_type": "markdown",
   "id": "2b0abff4-544c-4c47-8101-9ec95d93b815",
   "metadata": {},
   "source": [
    "[Pandas](https://pandas.pydata.org/) is a powerful and versatile library for Python, designed primarily for data manipulation and analysis. To quote from Nvidia’s website:\n",
    "\n",
    ">Pandas is the most popular software library for data manipulation and data analysis for the Python programming language. ([www.nvidia.com](https://www.nvidia.com))"
   ]
  },
  {
   "cell_type": "markdown",
   "id": "8fe38465-5b43-4b08-8a38-d05e3466cf59",
   "metadata": {},
   "source": [
    "Here is an (incomplete) list of some key functionalities provided by Pandas:\n",
    "\n",
    "1. **Data Structures**\n",
    "    - *Series*: One-dimensional labeled array capable of holding data of any type.\n",
    "    - *DataFrame*: Two-dimensional, size-mutable, potentially heterogeneous tabular data structure with labeled axes (rows and columns).\n",
    "\n",
    "2. **Data Manipulation**\n",
    "    - *Data Selection and Indexing*: Access data via labels, indices, or boolean masks (`.loc`, `.iloc`, `.at`, `.iat`).\n",
    "    - *Filtering*: Filter data based on conditions or queries.\n",
    "    - *Sorting*: Sort data by labels or values.\n",
    "    - *Handling Missing Data*: Identify, fill, or drop missing values (`isnull`, `dropna`, `fillna`).\n",
    "\n",
    "3. **Data Cleaning**\n",
    "    - *Dropping Duplicates*: Remove duplicate rows or columns.\n",
    "    - *Replacing Values*: Replace specific values in the DataFrame.\n",
    "    - *String Operations*: Perform operations on string data, like splitting, replacing, and pattern matching (`str.split`, `str.replace`).\n",
    "\n",
    "4. **Aggregation and Grouping**\n",
    "    - *Group By*: Split data into groups based on criteria, and perform aggregate functions like `sum`, `mean`, or custom operations.\n",
    "    - *Pivot Tables*: Create a pivot table to summarize data.\n",
    "\n",
    "5. **Merging and Joining**\n",
    "    - *Concatenation*: Combine multiple DataFrames along a particular axis.\n",
    "    - *Merging*: Merge DataFrames similar to SQL joins (`merge`, `join`).\n",
    "\n",
    "6. **Time Series**\n",
    "    - *Datetime Conversion*: Convert date and time data to a datetime object.\n",
    "    - *Resampling*: Aggregate data over a time period.\n",
    "    - *Time-based Indexing*: Access and manipulate time-series data easily with date indexing.\n",
    "\n",
    "7. **Statistical and Mathematical Operations**\n",
    "    - *Descriptive Statistics*: Compute summary statistics for DataFrame columns.\n",
    "    - *Correlation/Covariance*: Calculate the pairwise correlation or covariance between columns.\n",
    "    - *Cumulative Operations*: Perform cumulative operations on data.\n",
    "\n",
    "At the heart of Pandas lies the DataFrame, a two-dimensional labeled data structure with columns of potentially different types, similar to a table in a relational database or an Excel spreadsheet. Understanding DataFrames is crucial for anyone looking to perform data analysis in Python.\n"
   ]
  },
  {
   "cell_type": "code",
   "execution_count": null,
   "id": "2f1d34dd-0f8e-4afa-8fd6-cde63ac0cc29",
   "metadata": {},
   "outputs": [],
   "source": []
  }
 ],
 "metadata": {
  "kernelspec": {
   "display_name": "Python [conda env:unigis]",
   "language": "python",
   "name": "conda-env-unigis-py"
  },
  "language_info": {
   "codemirror_mode": {
    "name": "ipython",
    "version": 3
   },
   "file_extension": ".py",
   "mimetype": "text/x-python",
   "name": "python",
   "nbconvert_exporter": "python",
   "pygments_lexer": "ipython3",
   "version": "3.11.11"
  }
 },
 "nbformat": 4,
 "nbformat_minor": 5
}
